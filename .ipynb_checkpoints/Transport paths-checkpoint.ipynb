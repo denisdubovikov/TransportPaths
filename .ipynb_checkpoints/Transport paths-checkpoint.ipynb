{
 "cells": [
  {
   "cell_type": "code",
   "execution_count": 18,
   "id": "4616d37c",
   "metadata": {
    "scrolled": true
   },
   "outputs": [],
   "source": [
    "import random\n",
    "\n",
    "class Node:\n",
    "  \n",
    "    def __init__(self, data, indexloc = None):\n",
    "        self.data = data\n",
    "        self.index = indexloc\n",
    "        \n",
    "       \n",
    "class Graph:\n",
    " \n",
    "    @classmethod\n",
    "    def create_from_nodes(self, nodes):\n",
    "        return Graph(len(nodes), len(nodes), nodes)\n",
    " \n",
    "  \n",
    "    def __init__(self, row, col, nodes = None):\n",
    "        # матрица смежности\n",
    "        self.adj_mat = [[0] * col for _ in range(row)]\n",
    "        # матрица кратчайших путей\n",
    "        self.dist_mat = [[0] * col for _ in range(row)]\n",
    "        # матрица кол-ва автобусов i -> j\n",
    "        self.buses_count_mat = [[0] * col for _ in range(row)]\n",
    "        # матрица времени ожидания i -> j\n",
    "        self.waiting_time_mat = [[0] * col for _ in range(row)]\n",
    "        # матрица времени поездки i -> j\n",
    "        self.travel_time_mat = [[0] * col for _ in range(row)]\n",
    "        # матрица Pi - доли пассажиров\n",
    "        self.pi_mat = [[0] * col for _ in range(row)]\n",
    "        # матрица Pi, учитывающая реальное кол-во людей\n",
    "        self.pi_adj_mat = [[0] * col for _ in range(row)]\n",
    "        self.nodes = nodes\n",
    "        # Вектор интенсивностей прихода пассажиров на остановки\n",
    "        self.lambda_vec = [0] * col\n",
    "        for i in range(len(self.nodes)):\n",
    "            self.nodes[i].index = i\n",
    "            self.lambda_vec[i] = random.randint(10, 50)\n",
    "    \n",
    "    # Генерация вектора интенсивностей прибытия пассажиров на каждую остановку\n",
    "    # Аргументы randint - условно, минимальное и максимальное число возможной интенсивности прихода пассажиров\n",
    "    def regen_lambda_vec(self):\n",
    "        for i in range(len(self.lambda_vec)):\n",
    "            self.lambda_vec[i] = random.randint(2, 20)\n",
    "    \n",
    "    # Генерация n чисел суммой total\n",
    "    # Вспомогательный метод для определения долей пассажиров, следующих с одной остановки на другую\n",
    "    # см. constrained_sum_sample_nonneg\n",
    "    def constrained_sum_sample_pos(self, n, total):\n",
    "        dividers = sorted(random.sample(range(1, total), n - 1))\n",
    "        return [a - b for a, b in zip(dividers + [total], [0] + dividers)]\n",
    "    \n",
    "    # Генерация n неотрицательных чисел суммой total\n",
    "    # На каждую остановку приходит 100% пассажиров\n",
    "    # Нужно определить, какая часть хочет проследовать на каждую из остановок\n",
    "    def constrained_sum_sample_nonneg(self, total):\n",
    "        n = len(self.nodes) - 1\n",
    "        return [x - 1 for x in self.constrained_sum_sample_pos(n, total + n)]\n",
    "    \n",
    "    # Генерация матрицы ||Pi||\n",
    "    # По строкам - откуда, по столбцам - куда\n",
    "    # Сумма чисел в строке = 1\n",
    "    # Каждый ряд (row) показывает, какая доля пассажиров с остановки row едет на каждую из остановок (col)\n",
    "    def generate_pi_mat(self):\n",
    "        for row in range(len(self.nodes)):\n",
    "            # 100 - потому что дальше будем переводить в проценты\n",
    "            pi_row = self.constrained_sum_sample_nonneg(100)\n",
    "            pi_row.insert(row, 0)\n",
    "            for col in range(len(self.nodes)):\n",
    "                self.pi_mat[row][col] = round(pi_row[col] / 100, 2)\n",
    "                \n",
    "    # Генерация матрицы ||Pi*||   \n",
    "    # Скорректированная матрица Pi\n",
    "    # Показывает конкретное число пассажиров, следующих с остановки row на остановку col\n",
    "    # Учитывает интенсивность прихода пассажиров на каждую остановку\n",
    "    def calculate_pi_adj_mat(self):\n",
    "        for row in range(len(self.nodes)):\n",
    "            for col in range(len(self.nodes)):\n",
    "                self.pi_adj_mat[row][col] = round(self.pi_mat[row][col] * self.lambda_vec[row], 2)\n",
    " \n",
    "    # Связывает node1 с node2\n",
    "    # Обратите внимание, что ряд - источник, а столбец - назначение \n",
    "    # Обновлен для поддержки взвешенных ребер (поддержка алгоритма Дейкстры)\n",
    "    def connect_dir(self, node1, node2, weight = 1):\n",
    "        node1, node2 = self.get_index_from_node(node1), self.get_index_from_node(node2)\n",
    "        self.adj_mat[node1][node2] = weight\n",
    "  \n",
    "    # Опциональный весовой аргумент для поддержки алгоритма Дейкстры\n",
    "    def connect(self, node1, node2, weight = 1):\n",
    "        self.connect_dir(node1, node2, weight)\n",
    "        self.connect_dir(node2, node1, weight)\n",
    " \n",
    "    # Получает ряд узла, отметить ненулевые объекты с их узлами в массиве self.nodes\n",
    "    # Выбирает любые ненулевые элементы, оставляя массив узлов\n",
    "    # которые являются connections_to (для ориентированного графа)\n",
    "    # Возвращает значение: массив кортежей (узел, вес)\n",
    "    def connections_from(self, node):\n",
    "        node = self.get_index_from_node(node)\n",
    "        return [(self.nodes[col_num], self.adj_mat[node][col_num]) for col_num in range(len(self.adj_mat[node])) if self.adj_mat[node][col_num] != 0]\n",
    " \n",
    "    # Проводит матрицу к столбцу узлов\n",
    "    # Проводит любые ненулевые элементы узлу данного индекса ряда\n",
    "    # Выбирает только ненулевые элементы\n",
    "    # Обратите внимание, что для неориентированного графа\n",
    "    # используется connections_to ИЛИ connections_from\n",
    "    # Возвращает значение: массив кортежей (узел, вес)\n",
    "    def connections_to(self, node):\n",
    "      node = self.get_index_from_node(node)\n",
    "      column = [row[node] for row in self.adj_mat]\n",
    "      return [(self.nodes[row_num], column[row_num]) for row_num in range(len(column)) if column[row_num] != 0]\n",
    "     \n",
    "  \n",
    "    def print_adj_mat(self):\n",
    "      for row in self.adj_mat:\n",
    "          print(row)\n",
    "  \n",
    "    def node(self, index):\n",
    "      return self.nodes[index]\n",
    "    \n",
    "  \n",
    "    def remove_conn(self, node1, node2):\n",
    "      self.remove_conn_dir(node1, node2)\n",
    "      self.remove_conn_dir(node2, node1)\n",
    "   \n",
    "    # Убирает связь в направленной манере (nod1 к node2)\n",
    "    # Может принять номер индекса ИЛИ объект узла\n",
    "    def remove_conn_dir(self, node1, node2):\n",
    "      node1, node2 = self.get_index_from_node(node1), self.get_index_from_node(node2)\n",
    "      self.adj_mat[node1][node2] = 0   \n",
    "  \n",
    "    # Может пройти от node1 к node2\n",
    "    def can_traverse_dir(self, node1, node2):\n",
    "      node1, node2 = self.get_index_from_node(node1), self.get_index_from_node(node2)\n",
    "      return self.adj_mat[node1][node2] != 0  \n",
    "  \n",
    "    def has_conn(self, node1, node2):\n",
    "      return self.can_traverse_dir(node1, node2) or self.can_traverse_dir(node2, node1)\n",
    "  \n",
    "    def add_node(self,node):\n",
    "      self.nodes.append(node)\n",
    "      node.index = len(self.nodes) - 1\n",
    "      for row in self.adj_mat:\n",
    "        row.append(0)     \n",
    "      self.adj_mat.append([0] * (len(self.adj_mat) + 1))\n",
    " \n",
    "    # Получает вес, представленный перемещением от n1\n",
    "    # к n2. Принимает номера индексов ИЛИ объекты узлов\n",
    "    def get_weight(self, n1, n2):\n",
    "        node1, node2 = self.get_index_from_node(n1), self.get_index_from_node(n2)\n",
    "        return self.adj_mat[node1][node2]\n",
    "  \n",
    "    # Разрешает проводить узлы ИЛИ индексы узлов  \n",
    "    def get_index_from_node(self, node):\n",
    "        if not isinstance(node, Node) and not isinstance(node, int):\n",
    "            raise ValueError(\"node must be an integer or a Node object\")\n",
    "        if isinstance(node, int):\n",
    "            return node\n",
    "        else:\n",
    "            return node.index\n",
    "        \n",
    "    def insert_dist(self, dist, node_1, node_2):\n",
    "        self.dist_mat[self.get_index_from_node(node_1)][self.get_index_from_node(node_2)] = dist\n",
    "        \n",
    "    def print_dist_mat(self):\n",
    "      for row in self.dist_mat:\n",
    "          print(row)\n",
    "      \n",
    "    # Кол-во автобусов, следующих от node_1 до node_2\n",
    "    def insert_buses(self, node_1, node_2, count):\n",
    "        start = self.get_index_from_node(node_1)\n",
    "        finish = self.get_index_from_node(node_2)\n",
    "        \n",
    "        self.buses_count_mat[start][finish] += count\n",
    "    \n",
    "    def print_buses_count_mat(self):\n",
    "      for row in self.buses_count_mat:\n",
    "          print(row)\n",
    "           \n",
    "    # Заполнение матрицы времён ожидания\n",
    "    def fulfill_waiting_time_mat(self, T):\n",
    "        for row in range(len(self.nodes)):\n",
    "            for col in range(len(self.nodes)):\n",
    "                self.waiting_time_mat[row][col] = round(T / self.buses_count_mat[row][col], 2)\n",
    "    \n",
    "    # Заполнение матрицы времён поездок\n",
    "    def fulfill_travel_time_mat(self):\n",
    "        for row in range(len(self.nodes)):\n",
    "            for col in range(len(self.nodes)):\n",
    "                self.travel_time_mat[row][col] = round(self.dist_mat[row][col] * self.pi_adj_mat[row][col], 2)\n",
    "    \n",
    "    # Пересчитывает время ожидания с учетом конкретного числа пассажиров на остановках\n",
    "    def update_waiting_time_mat(self):\n",
    "        for row in range(len(self.nodes)):\n",
    "            for col in range(len(self.nodes)):\n",
    "                self.waiting_time_mat[row][col] = round(self.pi_adj_mat[row][col] * self.waiting_time_mat[row][col], 2)\n",
    "    \n",
    "    # Сумма времен ожидания всех пассажиров на всех остановках\n",
    "    def calculate_total_waiting_time(self):\n",
    "        res = 0\n",
    "        for row in range(len(self.nodes)):\n",
    "            for col in range(len(self.nodes)):\n",
    "                res += self.waiting_time_mat[row][col]\n",
    "        return res\n",
    "    \n",
    "    # Сумма времен поездок всех пассажиров\n",
    "    def calculate_total_travel_time(self):\n",
    "        res = 0\n",
    "        for row in range(len(self.nodes)):\n",
    "            for col in range(len(self.nodes)):\n",
    "                res += self.travel_time_mat[row][col]\n",
    "        return res\n",
    "    \n",
    "    def print_waiting_time_mat(self):\n",
    "      for row in self.waiting_time_mat:\n",
    "          print(row)\n",
    "            \n",
    "    def print_pi_mat(self):\n",
    "      for row in self.pi_mat:\n",
    "          print(row)\n",
    "            \n",
    "    def print_pi_adj_mat(self):\n",
    "      for row in self.pi_adj_mat:\n",
    "          print(row)\n",
    "        \n",
    "    # Дейкстра\n",
    "    def dijkstra(self, node):\n",
    "        # Получает индекс узла (или поддерживает передачу int)\n",
    "        nodenum = self.get_index_from_node(node)\n",
    "        # Заставляет массив отслеживать расстояние от одного до любого узла\n",
    "        # в self.nodes. Инициализирует до бесконечности для всех узлов, кроме \n",
    "        # начального узла, сохраняет \"путь\", связанный с расстоянием. \n",
    "        # Индекс 0 = расстояние, индекс 1 = перескоки узла\n",
    "        dist = [None] * len(self.nodes)\n",
    "        for i in range(len(dist)):\n",
    "            dist[i] = [float(\"inf\")]\n",
    "            dist[i].append([self.nodes[nodenum]])\n",
    "        \n",
    "        dist[nodenum][0] = 0\n",
    "        # Добавляет в очередь все узлы графа\n",
    "        # Отмечает целые числа в очереди, соответствующие индексам узла\n",
    "        # локаций в массиве self.nodes \n",
    "        queue = [i for i in range(len(self.nodes))]\n",
    "        # Набор увиденных на данный момент номеров \n",
    "        seen = set()\n",
    "        while len(queue) > 0:\n",
    "            # Получает узел в очереди, который еще не был рассмотрен\n",
    "            # и который находится на кратчайшем расстоянии от источника\n",
    "            min_dist = float(\"inf\")\n",
    "            min_node = None\n",
    "            for n in queue: \n",
    "                if dist[n][0] < min_dist and n not in seen:\n",
    "                    min_dist = dist[n][0]\n",
    "                    min_node = n\n",
    "            \n",
    "            # Добавляет мин. расстояние узла до увиденного, убирает очередь\n",
    "            queue.remove(min_node)\n",
    "            seen.add(min_node)\n",
    "            # Получает все следующие перескоки\n",
    "            connections = self.connections_from(min_node)\n",
    "            # Для каждой связи обновляет путь и полное расстояние от  \n",
    "            # исходного узла, если полное расстояние меньше\n",
    "            # чем текущее расстояние в массиве dist\n",
    "            for (node, weight) in connections: \n",
    "                tot_dist = weight + min_dist\n",
    "                if tot_dist < dist[node.index][0]:\n",
    "                    dist[node.index][0] = tot_dist\n",
    "                    dist[node.index][1] = list(dist[min_node][1])\n",
    "                    dist[node.index][1].append(node)\n",
    "        return dist"
   ]
  },
  {
   "cell_type": "code",
   "execution_count": 19,
   "id": "cb1cc1f7",
   "metadata": {},
   "outputs": [
    {
     "name": "stdout",
     "output_type": "stream",
     "text": [
      "[0, 5, 10, 0, 2, 0]\n",
      "[5, 0, 2, 4, 0, 0]\n",
      "[10, 2, 0, 7, 0, 10]\n",
      "[0, 4, 7, 0, 3, 0]\n",
      "[2, 0, 0, 3, 0, 0]\n",
      "[0, 0, 10, 0, 0, 0]\n"
     ]
    }
   ],
   "source": [
    "a = Node(\"A\")\n",
    "b = Node(\"B\")\n",
    "c = Node(\"C\")\n",
    "d = Node(\"D\")\n",
    "e = Node(\"E\")\n",
    "f = Node(\"F\")\n",
    "\n",
    "nodes = [a, b, c, d, e, f]\n",
    "\n",
    "w_graph = Graph.create_from_nodes(nodes)\n",
    "\n",
    "w_graph.connect(a, b, 5)\n",
    "w_graph.connect(a, c, 10)\n",
    "w_graph.connect(a, e, 2)\n",
    "w_graph.connect(b, c, 2)\n",
    "w_graph.connect(b, d, 4)\n",
    "w_graph.connect(c, d, 7)\n",
    "w_graph.connect(c, f, 10)\n",
    "w_graph.connect(d, e, 3)\n",
    "\n",
    "w_graph.print_adj_mat()"
   ]
  },
  {
   "cell_type": "code",
   "execution_count": 20,
   "id": "8657fb52",
   "metadata": {
    "scrolled": false
   },
   "outputs": [
    {
     "name": "stdout",
     "output_type": "stream",
     "text": [
      "[(0, ['A']), (5, ['A', 'B']), (7, ['A', 'B', 'C']), (5, ['A', 'E', 'D']), (2, ['A', 'E']), (17, ['A', 'B', 'C', 'F'])]\n",
      "[(5, ['B', 'A']), (0, ['B']), (2, ['B', 'C']), (4, ['B', 'D']), (7, ['B', 'D', 'E']), (12, ['B', 'C', 'F'])]\n",
      "[(7, ['C', 'B', 'A']), (2, ['C', 'B']), (0, ['C']), (6, ['C', 'B', 'D']), (9, ['C', 'B', 'D', 'E']), (10, ['C', 'F'])]\n",
      "[(5, ['D', 'E', 'A']), (4, ['D', 'B']), (6, ['D', 'B', 'C']), (0, ['D']), (3, ['D', 'E']), (16, ['D', 'B', 'C', 'F'])]\n",
      "[(2, ['E', 'A']), (7, ['E', 'A', 'B']), (9, ['E', 'A', 'B', 'C']), (3, ['E', 'D']), (0, ['E']), (19, ['E', 'A', 'B', 'C', 'F'])]\n",
      "[(17, ['F', 'C', 'B', 'A']), (12, ['F', 'C', 'B']), (10, ['F', 'C']), (16, ['F', 'C', 'B', 'D']), (19, ['F', 'C', 'B', 'D', 'E']), (0, ['F'])]\n"
     ]
    }
   ],
   "source": [
    "for node in nodes:\n",
    "    print([(weight, [n.data for n in node]) for (weight, node) in w_graph.dijkstra(node)])"
   ]
  },
  {
   "cell_type": "code",
   "execution_count": 21,
   "id": "e6c77e18",
   "metadata": {},
   "outputs": [
    {
     "name": "stdout",
     "output_type": "stream",
     "text": [
      "[0, 5, 7, 5, 2, 17]\n",
      "[5, 0, 2, 4, 7, 12]\n",
      "[7, 2, 0, 6, 9, 10]\n",
      "[5, 4, 6, 0, 3, 16]\n",
      "[2, 7, 9, 3, 0, 19]\n",
      "[17, 12, 10, 16, 19, 0]\n"
     ]
    }
   ],
   "source": [
    "for node in nodes:\n",
    "    for (weight, n) in w_graph.dijkstra(node):\n",
    "        w_graph.insert_dist(weight, n[0], n[-1])\n",
    "w_graph.print_dist_mat()"
   ]
  },
  {
   "cell_type": "code",
   "execution_count": 22,
   "id": "f908da12",
   "metadata": {},
   "outputs": [],
   "source": [
    "class Route:\n",
    "    \n",
    "    def __init__(self, nodes, buses):\n",
    "        self.nodes = nodes\n",
    "        self.buses = buses\n",
    "        \n",
    "    def print(self):\n",
    "        print(\"Route: \", [node.data for node in self.nodes], \", buses: \", self.buses)"
   ]
  },
  {
   "cell_type": "code",
   "execution_count": 23,
   "id": "139ba5b1",
   "metadata": {},
   "outputs": [
    {
     "name": "stdout",
     "output_type": "stream",
     "text": [
      "Route:  ['A', 'B', 'C'] , buses:  3\n",
      "Route:  ['A', 'C', 'F'] , buses:  2\n",
      "Route:  ['D', 'B', 'C', 'F'] , buses:  1\n",
      "Route:  ['F', 'C', 'A', 'E'] , buses:  1\n",
      "Route:  ['D', 'E', 'A', 'C', 'B'] , buses:  2\n"
     ]
    }
   ],
   "source": [
    "routes = []\n",
    "routes.append(Route([a, b, c], 3))\n",
    "routes.append(Route([a, c, f], 2))\n",
    "routes.append(Route([d, b, c, f], 1))\n",
    "routes.append(Route([f, c, a, e], 1))\n",
    "routes.append(Route([d, e, a, c, b], 2))\n",
    "\n",
    "for route in routes:\n",
    "    route.print()"
   ]
  },
  {
   "cell_type": "code",
   "execution_count": 24,
   "id": "f00e7849",
   "metadata": {},
   "outputs": [
    {
     "name": "stdout",
     "output_type": "stream",
     "text": [
      "[8, 5, 8, 2, 3, 3]\n",
      "[5, 6, 6, 3, 2, 1]\n",
      "[8, 6, 9, 3, 3, 4]\n",
      "[2, 3, 3, 3, 2, 1]\n",
      "[3, 2, 3, 2, 3, 1]\n",
      "[3, 1, 4, 1, 1, 4]\n"
     ]
    }
   ],
   "source": [
    "for route in routes:\n",
    "    for start in route.nodes:\n",
    "        for finish in route.nodes:\n",
    "            w_graph.insert_buses(start, finish, route.buses)\n",
    "\n",
    "w_graph.print_buses_count_mat()"
   ]
  },
  {
   "cell_type": "code",
   "execution_count": 25,
   "id": "5c565986",
   "metadata": {},
   "outputs": [
    {
     "name": "stdout",
     "output_type": "stream",
     "text": [
      "[1.25, 2.0, 1.25, 5.0, 3.33, 3.33]\n",
      "[2.0, 1.67, 1.67, 3.33, 5.0, 10.0]\n",
      "[1.25, 1.67, 1.11, 3.33, 3.33, 2.5]\n",
      "[5.0, 3.33, 3.33, 3.33, 5.0, 10.0]\n",
      "[3.33, 5.0, 3.33, 5.0, 3.33, 10.0]\n",
      "[3.33, 10.0, 2.5, 10.0, 10.0, 2.5]\n"
     ]
    }
   ],
   "source": [
    "T = 10 # не влияет на результат после оптимизации, по идее))0)\n",
    "\n",
    "w_graph.fulfill_waiting_time_mat(T)\n",
    "w_graph.print_waiting_time_mat()"
   ]
  },
  {
   "cell_type": "code",
   "execution_count": 26,
   "id": "8abc5b80",
   "metadata": {},
   "outputs": [
    {
     "name": "stdout",
     "output_type": "stream",
     "text": [
      "[0.0, 0.48, 0.08, 0.07, 0.04, 0.33]\n",
      "[0.09, 0.0, 0.23, 0.36, 0.15, 0.17]\n",
      "[0.04, 0.25, 0.0, 0.11, 0.21, 0.39]\n",
      "[0.2, 0.13, 0.2, 0.0, 0.22, 0.25]\n",
      "[0.35, 0.01, 0.34, 0.3, 0.0, 0.0]\n",
      "[0.46, 0.07, 0.03, 0.01, 0.43, 0.0]\n"
     ]
    }
   ],
   "source": [
    "w_graph.generate_pi_mat()\n",
    "w_graph.print_pi_mat()"
   ]
  },
  {
   "cell_type": "code",
   "execution_count": 27,
   "id": "41282bf6",
   "metadata": {},
   "outputs": [
    {
     "name": "stdout",
     "output_type": "stream",
     "text": [
      "[20, 16, 31, 12, 14, 17]\n",
      "[0.0, 9.6, 1.6, 1.4, 0.8, 6.6]\n",
      "[1.44, 0.0, 3.68, 5.76, 2.4, 2.72]\n",
      "[1.24, 7.75, 0.0, 3.41, 6.51, 12.09]\n",
      "[2.4, 1.56, 2.4, 0.0, 2.64, 3.0]\n",
      "[4.9, 0.14, 4.76, 4.2, 0.0, 0.0]\n",
      "[7.82, 1.19, 0.51, 0.17, 7.31, 0.0]\n"
     ]
    }
   ],
   "source": [
    "w_graph.calculate_pi_adj_mat()\n",
    "print(w_graph.lambda_vec)\n",
    "w_graph.print_pi_adj_mat()"
   ]
  },
  {
   "cell_type": "code",
   "execution_count": 28,
   "id": "f724828a",
   "metadata": {},
   "outputs": [
    {
     "name": "stdout",
     "output_type": "stream",
     "text": [
      "[0.0, 19.2, 2.0, 7.0, 2.66, 21.98]\n",
      "[2.88, 0.0, 6.15, 19.18, 12.0, 27.2]\n",
      "[1.55, 12.94, 0.0, 11.36, 21.68, 30.23]\n",
      "[12.0, 5.19, 7.99, 0.0, 13.2, 30.0]\n",
      "[16.32, 0.7, 15.85, 21.0, 0.0, 0.0]\n",
      "[26.04, 11.9, 1.27, 1.7, 73.1, 0.0]\n"
     ]
    }
   ],
   "source": [
    "w_graph.update_waiting_time_mat()\n",
    "w_graph.print_waiting_time_mat()"
   ]
  },
  {
   "cell_type": "code",
   "execution_count": 29,
   "id": "c0eea605",
   "metadata": {},
   "outputs": [
    {
     "name": "stdout",
     "output_type": "stream",
     "text": [
      "434.27\n"
     ]
    }
   ],
   "source": [
    "total_waiting_time = w_graph.calculate_total_waiting_time()\n",
    "print(total_waiting_time)"
   ]
  },
  {
   "cell_type": "markdown",
   "id": "22cd93f9",
   "metadata": {},
   "source": [
    "Теперь рассчитаем время поездки с остановки i на остановку j. Будем считать, что время поездки - случайная величина, имеющая экспоненциальное распределение, как скачки пуассона, не зависящее ни от чего. Мат ожидание случайной величины времени поездки i -> j будет пропорционально расстоянию от i до j. Это расстояние будем брать из матрицы кратчайших путей."
   ]
  },
  {
   "cell_type": "code",
   "execution_count": 30,
   "id": "ba062753",
   "metadata": {},
   "outputs": [
    {
     "name": "stdout",
     "output_type": "stream",
     "text": [
      "[0.0, 19.2, 2.0, 7.0, 2.66, 21.98]\n",
      "[2.88, 0.0, 6.15, 19.18, 12.0, 27.2]\n",
      "[1.55, 12.94, 0.0, 11.36, 21.68, 30.23]\n",
      "[12.0, 5.19, 7.99, 0.0, 13.2, 30.0]\n",
      "[16.32, 0.7, 15.85, 21.0, 0.0, 0.0]\n",
      "[26.04, 11.9, 1.27, 1.7, 73.1, 0.0]\n"
     ]
    }
   ],
   "source": [
    "w_graph.fulfill_travel_time_mat()\n",
    "w_graph.print_waiting_time_mat()"
   ]
  },
  {
   "cell_type": "code",
   "execution_count": 31,
   "id": "6e8850f1",
   "metadata": {},
   "outputs": [
    {
     "name": "stdout",
     "output_type": "stream",
     "text": [
      "939.8799999999999\n"
     ]
    }
   ],
   "source": [
    "total_travel_time = w_graph.calculate_total_travel_time()\n",
    "print(total_travel_time)"
   ]
  },
  {
   "cell_type": "code",
   "execution_count": null,
   "id": "8677a642",
   "metadata": {},
   "outputs": [],
   "source": []
  }
 ],
 "metadata": {
  "kernelspec": {
   "display_name": "Python 3 (ipykernel)",
   "language": "python",
   "name": "python3"
  },
  "language_info": {
   "codemirror_mode": {
    "name": "ipython",
    "version": 3
   },
   "file_extension": ".py",
   "mimetype": "text/x-python",
   "name": "python",
   "nbconvert_exporter": "python",
   "pygments_lexer": "ipython3",
   "version": "3.9.6"
  }
 },
 "nbformat": 4,
 "nbformat_minor": 5
}